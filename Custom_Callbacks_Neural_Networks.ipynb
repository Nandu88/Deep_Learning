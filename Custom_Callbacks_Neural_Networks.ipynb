{
  "nbformat": 4,
  "nbformat_minor": 0,
  "metadata": {
    "colab": {
      "name": "Untitled21.ipynb",
      "provenance": [],
      "collapsed_sections": []
    },
    "kernelspec": {
      "name": "python3",
      "display_name": "Python 3"
    },
    "accelerator": "GPU"
  },
  "cells": [
    {
      "cell_type": "code",
      "metadata": {
        "id": "m2APR79pCzIl",
        "colab_type": "code",
        "colab": {
          "base_uri": "https://localhost:8080/",
          "height": 55
        },
        "outputId": "49d56283-9da3-487a-b1d4-e1683f404b43"
      },
      "source": [
        "from google.colab import drive\n",
        "drive.mount('/content/gdrive')"
      ],
      "execution_count": 27,
      "outputs": [
        {
          "output_type": "stream",
          "text": [
            "Drive already mounted at /content/gdrive; to attempt to forcibly remount, call drive.mount(\"/content/gdrive\", force_remount=True).\n"
          ],
          "name": "stdout"
        }
      ]
    },
    {
      "cell_type": "code",
      "metadata": {
        "id": "pS8pOcUkDA64",
        "colab_type": "code",
        "colab": {}
      },
      "source": [
        "\n",
        "import numpy as np\n",
        "import matplotlib.pyplot as plt\n",
        "import tensorflow as tf\n",
        "from tensorflow.keras.layers import Activation\n",
        "from tensorflow.keras.layers import Dense\n",
        "from tensorflow.keras.models import Sequential\n",
        "from tensorflow.keras.callbacks import Callback\n",
        "from tensorflow.keras.optimizers import Adam"
      ],
      "execution_count": 28,
      "outputs": []
    },
    {
      "cell_type": "markdown",
      "metadata": {
        "id": "r5Re93O1HwMI",
        "colab_type": "text"
      },
      "source": [
        "**CREATING TEST DATA**"
      ]
    },
    {
      "cell_type": "code",
      "metadata": {
        "id": "IOmRk0PPD89K",
        "colab_type": "code",
        "colab": {}
      },
      "source": [
        "\n",
        "X = np.array([0,1,2,3,4,5,6,7,8,9,10])\n",
        "y = 5 * X + 10"
      ],
      "execution_count": 29,
      "outputs": []
    },
    {
      "cell_type": "markdown",
      "metadata": {
        "id": "KmDjp8KLH0-0",
        "colab_type": "text"
      },
      "source": [
        "**PLOTTING THE DATA**"
      ]
    },
    {
      "cell_type": "code",
      "metadata": {
        "id": "s9nvmzOPEBR1",
        "colab_type": "code",
        "colab": {
          "base_uri": "https://localhost:8080/",
          "height": 295
        },
        "outputId": "8c477294-4556-491b-c183-03ce8c89a04f"
      },
      "source": [
        "\n",
        "plt.scatter(X, y)\n",
        "plt.grid()\n",
        "plt.ylabel(\"Output\")\n",
        "plt.xlabel(\"Input\") \n",
        "plt.title(\"LINEAR EQUATION\") \n",
        "plt.show()\n"
      ],
      "execution_count": 30,
      "outputs": [
        {
          "output_type": "display_data",
          "data": {
            "image/png": "[encoded data removed]",
            "text/plain": [
              "<Figure size 432x288 with 1 Axes>"
            ]
          },
          "metadata": {
            "tags": [],
            "needs_background": "light"
          }
        }
      ]
    },
    {
      "cell_type": "markdown",
      "metadata": {
        "id": "YKyZmks2H8R-",
        "colab_type": "text"
      },
      "source": [
        "**CREATING NEURAL NETWORK**"
      ]
    },
    {
      "cell_type": "code",
      "metadata": {
        "id": "PdYS5H6cEO2G",
        "colab_type": "code",
        "colab": {}
      },
      "source": [
        "\n",
        "model = Sequential()\n",
        "model.add(Dense(1,  input_dim = 1, activation = 'linear'))\n",
        "adam = Adam(learning_rate=0.2)\n",
        "model.compile(optimizer = adam,\n",
        "              loss = 'mse', \n",
        "              metrics = ['mse'])"
      ],
      "execution_count": 31,
      "outputs": []
    },
    {
      "cell_type": "code",
      "metadata": {
        "id": "CvLcEOB4Ej0i",
        "colab_type": "code",
        "colab": {
          "base_uri": "https://localhost:8080/",
          "height": 35
        },
        "outputId": "9791a0d5-044b-4476-8c37-cfdec2705a82"
      },
      "source": [
        "model.get_weights()"
      ],
      "execution_count": 32,
      "outputs": [
        {
          "output_type": "execute_result",
          "data": {
            "text/plain": [
              "[array([[-0.59327817]], dtype=float32), array([0.], dtype=float32)]"
            ]
          },
          "metadata": {
            "tags": []
          },
          "execution_count": 32
        }
      ]
    },
    {
      "cell_type": "markdown",
      "metadata": {
        "id": "5pO_5lNLIWyL",
        "colab_type": "text"
      },
      "source": [
        "**STORING SLOPE AND BIAS VALUES AT END OF EACH EPOCH**"
      ]
    },
    {
      "cell_type": "code",
      "metadata": {
        "id": "mJwab2ikEti9",
        "colab_type": "code",
        "colab": {}
      },
      "source": [
        "slope_values = []\n",
        "bias_values = []\n",
        "class get_model_weights(Callback):\n",
        "    def on_epoch_end(self, batch, logs):\n",
        "        slope, bias = model.get_weights()\n",
        "        slope_values.append(slope[0][0])\n",
        "        bias_values.append(bias[0])\n",
        "callback = get_model_weights()"
      ],
      "execution_count": 33,
      "outputs": []
    },
    {
      "cell_type": "code",
      "metadata": {
        "id": "hmfwetIBE84_",
        "colab_type": "code",
        "colab": {
          "base_uri": "https://localhost:8080/",
          "height": 35
        },
        "outputId": "0bada402-fcda-4a70-82d9-03a0b0f63453"
      },
      "source": [
        "model.fit(X, y, epochs = 300, \n",
        "          verbose = False, \n",
        "          callbacks=[callback])"
      ],
      "execution_count": 34,
      "outputs": [
        {
          "output_type": "execute_result",
          "data": {
            "text/plain": [
              "<tensorflow.python.keras.callbacks.History at 0x7f3b23ef3da0>"
            ]
          },
          "metadata": {
            "tags": []
          },
          "execution_count": 34
        }
      ]
    },
    {
      "cell_type": "markdown",
      "metadata": {
        "id": "UKW7fQnYIfhe",
        "colab_type": "text"
      },
      "source": [
        "**PLOTTING SLOPE VALUES**"
      ]
    },
    {
      "cell_type": "code",
      "metadata": {
        "id": "0M2wRMQ9FBvh",
        "colab_type": "code",
        "colab": {
          "base_uri": "https://localhost:8080/",
          "height": 265
        },
        "outputId": "71002bf3-99ad-4839-c22a-e578ce8eaeee"
      },
      "source": [
        "plt.plot(slope_values)\n",
        "plt.grid()"
      ],
      "execution_count": 35,
      "outputs": [
        {
          "output_type": "display_data",
          "data": {
            "image/png": "[encoded data removed]",
            "text/plain": [
              "<Figure size 432x288 with 1 Axes>"
            ]
          },
          "metadata": {
            "tags": [],
            "needs_background": "light"
          }
        }
      ]
    },
    {
      "cell_type": "markdown",
      "metadata": {
        "id": "UOpY1At-IotS",
        "colab_type": "text"
      },
      "source": [
        "**PLOTTING BIAS VALUES**"
      ]
    },
    {
      "cell_type": "code",
      "metadata": {
        "id": "wjaNCywzFHbl",
        "colab_type": "code",
        "colab": {
          "base_uri": "https://localhost:8080/",
          "height": 265
        },
        "outputId": "12252e3b-04cb-454b-e4e2-7661d53e47a0"
      },
      "source": [
        "plt.plot(bias_values)\n",
        "plt.grid()"
      ],
      "execution_count": 36,
      "outputs": [
        {
          "output_type": "display_data",
          "data": {
            "image/png": "[encoded data removed]",
            "text/plain": [
              "<Figure size 432x288 with 1 Axes>"
            ]
          },
          "metadata": {
            "tags": [],
            "needs_background": "light"
          }
        }
      ]
    }
  ]
}